{
 "cells": [
  {
   "cell_type": "markdown",
   "metadata": {},
   "source": [
    "# Why are they called neural networks?\n",
    "Neural networks are a subset of machine learning algorithms. They're modeled after the neurons present in the brain. Neural networks are more sophisticated and robust, compared to previous machine learning algorithms, and have been modified to fit several interesting use-cases. \n",
    "\n",
    "### Are they related to \"deep-learning\" in any way?\n",
    "Neural networks usually consist of several layers, and each layer has multiple neurons. Any neural network which has multiple \"hidden\" layers in between the input layer and the output layer is called a \"deep neural network\". That's it. \n",
    "\n",
    "![img](http://4.bp.blogspot.com/-sLgBLS3bJO8/U__Kx6PnkRI/AAAAAAAAAWM/Gz3cL5jiwTo/s1600/godeeper.jpg)\n",
    "\n",
    "# How do they work?\n",
    "Neural networks consist of several neurons. You can think of a neuron as a function that takes in several inputs and returns a single output. Each neuron has multiple inputs and weights associated with each of these inputs. The weights determine how significant each feature is. \n",
    "![img](https://www.teco.edu/~albrecht/neuro/html/img3.gif)\n",
    "The output of a neuron is sent to the neurons in the next layer.\n",
    "\n",
    "A typical \"feed-forward\" neural network looks like this: \n",
    "![img](http://cs231n.github.io/assets/nn1/neural_net.jpeg)\n",
    "\n",
    "### Why do we need these layers? \n",
    "With each layer, the network can \"learn\" more abstract relationships between the