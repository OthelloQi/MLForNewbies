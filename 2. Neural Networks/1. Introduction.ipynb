{
 "cells": [
  {
   "cell_type": "markdown",
   "metadata": {},
   "source": [
    "# Why are they called neural networks?\n",
    "Neural networks are a subset of machine learning algorithms. They're modeled after the neurons present in the brain. Neural networks are more sophisticated and robust, compared to previous machine learning algorithms, and have been modified to fit several interesting use-cases. \n",
    "\n",
    "### Are they related to \"deep-learning\" in any way?\n",
    "Neural networks usually consist of several layers, and each layer has multiple neurons. Any neural network which has multiple \"hidden\" layers in between the input layer and the output layer is called a \"deep neural network\". That's it. \n",
    "\n",
    "![img](http://4.bp.blogspot.com/-sLgBLS3bJO8/U__Kx6PnkRI/AAAAAAAAAWM/Gz3cL5ji