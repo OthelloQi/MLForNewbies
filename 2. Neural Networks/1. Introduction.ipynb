{
 "cells": [
  {
   "cell_type": "markdown",
   "metadata": {},
   "source": [
    "# Why are they called neural networks?\