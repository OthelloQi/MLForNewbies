{
 "cells": [
  {
   "cell_type": "markdown",
   "metadata": {},
   "source": [
    "# Why are they called neural networks?\n",
    "Neural networks are a subset of machine learning algorithms. They're modeled after the neurons present in the brain. Neural networks are more sophisticated and robust, compared to previous machine learning algorithms, and have been modifie