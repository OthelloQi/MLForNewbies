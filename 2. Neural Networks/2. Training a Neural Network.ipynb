{
 "cells": [
  {
   "cell_type": "markdown",
   "metadata": {},
   "source": [
    "# What is training? \n",
    "\n",
    "Training a neural network is a process that find