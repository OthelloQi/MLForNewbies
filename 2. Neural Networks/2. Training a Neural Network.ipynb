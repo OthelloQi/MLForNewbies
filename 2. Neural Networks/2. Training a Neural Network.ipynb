{
 "cells": [
  {
   "cell_type": "markdown",
   "metadata": {},
   "source": [
    "# What is training? \n",
   