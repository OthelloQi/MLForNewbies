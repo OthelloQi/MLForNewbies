{
 "cells": [
  {
   "cell_type": "markdown",
   "metadata": {},
   "source": [
    "# What is training? \n",
    "\n",
    "Training a neural network is a process that finds (or attempts to find) an optimal set of weights, such that the loss (the difference between the actual output and the predicted output) is minimized. We usually start