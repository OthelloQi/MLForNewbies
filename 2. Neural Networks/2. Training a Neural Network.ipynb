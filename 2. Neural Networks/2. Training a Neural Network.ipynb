{
 "cells": [
  {
   "cell_type": "markdown",
   "metadata": {},
   "source": [
    "# What is training? \n",
    "\n",
    "Training a neural network is a process that finds (or attempts to find) an optimal set of weights, such that the loss (the difference between the actual output and the predicted output) is minimized. We usually start with an arbitrary set of weights and iterate over each training example in order to gradually zero-in on the solution. Before we can train a network, we need to build it. This involves identifying the following parameters:\n",
    "- **Number of layers**\n",
    "- **Number of neurons** in each layer\n",
    "- **Activation Function**: It is applied to the output of a neuron. More on this below. \n",
    "- **Loss Function**: The loss function decides how to calculate the difference or the \"error\" between the predicted output and the real output of the training samples. \n",
    "- **Training Algorithm** (Optimizer): The optimizer decides how the weights will be updated.\n",
    "- **Batch Size**: The number of input samples that will lead to one update in the weights. If the batch size is too small, training will take a long time. If the batch size is very large, training won't converge properly.\n",
    "- **Learning Rate**: A hyperparameter that lets you control how much the weight