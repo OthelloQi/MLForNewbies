{
 "cells": [
  {
   "cell_type": "markdown",
   "metadata": {},
   "source": [
    "# What is training? \n",
    "\n",
    "Training a neural network is a process that finds (or attempts to find) an optimal set of weights, such that the loss (the difference between the actual output and the predicted output) is minimized. We usually start with an arbitrary set of weights and iterate over each training example in order to gradually zero-in on the solution. Before we can train a network, we need to build it. This involves identifying the following parameters:\n",
    "- **Number of layers**\n",
    "- **Number of neurons** in each layer\n",
    "- **Activation Function**: It is applied to the output of a neuron. More on this below. \n",
    "- **Loss Function**: The loss function decides how to calculate the difference or the \"error\" between the predicted output and the real output of the training samples. \n",
    "- **Training Algorithm** (Optimizer): The optimizer decides how the weights will be updated.\n",
    "- **Batch Size**: The number of input samples that will lead to one update in the weights. If the batch size is too small, training will take a long time. If the batch size is very large, training won't converge properly.\n",
    "- **Learning Rate**: A hyperparameter that lets you control how much the weights will update in each step. If the learning rate is too small, the convergence will be delayed. If it is too large, convergence may never be achieved.\n",
    "\n",
    "# Training Process\n",
    "The training of a neural network is an iterative process. Each iteration consists of 2 passes - **forward pass** and **backward pass**.\n",
    "\n",
    "__Forward Pass__\n",
    "\n",
    "During the forward pass, the input sample is fed into the network, and its output is calculated. This output is compared to the actual output from the output label (we're doing supervised learning). The cost function calculates the error. Training the network can be thought of as an optimization problem, where we try to minimize the cost function. \n",
    "\n",
    "__Backward Pass__\n",
    "\n",
    "Now, during the backward pass, the errors are propagated backward. Using partial derivates, we try to find out how significant each feature is i.e. how much each feature contributes to the final output. Derivates help us find how much the final output changed with respect to a change in the input. Take a look at the mathematics behind this [here].(htt