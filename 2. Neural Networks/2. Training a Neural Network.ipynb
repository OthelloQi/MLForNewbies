{
 "cells": [
  {
   "cell_type": "markdown",
   "metadata": {},
   "source": [
    "# What is training? \n",
    "\n",
    "Training a neural network is a process that finds (or attempts to find) an optimal set of weights, such that the loss (the difference between the actual output and the predicted output) is minimized. We usually start with an arbitrary set of weights and iterate over each training example in order to gradually zero-in on the solution. Before we can train a network, we need to build it. This involves identifying the following parameters:\n",
    "- **Number of layers**\n",
    "- **Number of neurons** in each layer\n",
    "- **Activation Function**: It is applied to the output of a neuron. More on this below. \n",
    "- **Loss Function**: The loss function decides how to calculate the difference or the \"error\" betwee