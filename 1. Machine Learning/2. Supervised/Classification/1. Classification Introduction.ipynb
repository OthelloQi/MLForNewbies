
{
 "cells": [
  {
   "cell_type": "markdown",
   "metadata": {},
   "source": [
    "# What is classification?\n",
    "Classification is a supervised machine learning approach which aims to correctly classify a given input into one of many classes. For example, given the pixel data of an image, the classifier can classify the image as a cat, or a digit.\n",
    "![img](https://i.imgur.com/2hpxZwW.png)\n",
    "\n",
    "From a mathematical point of view, a classifier can be seen as one or more decision boundaries. A decision boundary is a line that seperates the inputs of 2 different classes on the graph. For a 2D plot, the decision boundary is a line. For a 3D plot, it is a plane, and so on...\n",
    "- - - -\n",
    "The goal of training a classifier is to find these decision boundaries :)"
   ]
  },
  {
   "cell_type": "markdown",
   "metadata": {},
   "source": [
    "### How is classification different from regression? \n",
    "Regression is primarily used for prediction tasks (like predicting house prices) whereas classification is used to find out what class an input belongs to. In other words, regression is used for a continous-valued output, and classification is used for a discrete-valued output."
   ]
  },
  {
   "cell_type": "markdown",
   "metadata": {},