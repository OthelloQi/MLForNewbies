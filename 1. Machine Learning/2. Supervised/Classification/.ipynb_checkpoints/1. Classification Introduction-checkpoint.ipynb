
{
 "cells": [
  {
   "cell_type": "markdown",
   "metadata": {},
   "source": [
    "# What is classification?\n",
    "Classification is a supervised machine learning approach which aims to correctly classify a given input into one of many classes. For example, given the pixel data of an image, the classifier can classify the image as a cat, or a digit.\n",
    "![img](https://i.imgur.com/2hpxZwW.png)\n",
    "\n",
    "From a mathematical point of view, a classifier can be seen as one or more decision boundaries. A decision boundary is a line that seperates the inputs of 2 different classes on the graph. For a 2D plot, the decision boundary is a line. For a 3D plot, it is a plane, and so on...\n",
    "- - - -\n",
    "The goal of training a classifier is to find these decision boundaries :)"
   ]
  },
  {
   "cell_type": "markdown",
   "metadata": {},
   "source": [
    "### How is classification different from regression? \n",
    "Regression is primarily used for prediction tasks (like predicting house prices) whereas classification is used to find out what class an input belongs to. In other words, regression is used for a continous-valued output, and classification is used for a discrete-valued output."
   ]
  },
  {
   "cell_type": "markdown",
   "metadata": {},
   "source": [
    "# Does everyone use the same algorithm to classify?\n",
    "NO! There's a ton of classification algorithms out there, and one can pick whatever suits their needs the best. Here are some popular ones, in no particular order - \n",
    "- Logistic Regression (Don't get confused by the terminology, logistic \"regression\" is actually a classifier :P)\n",
    "- Naive Baiyes (Not as \"naive\" as it sounds, gives pretty good results in most cases. Based on probability.)\n",
    "- Decision Tree (Consists of several if-else like conditions, which the classifier learns on its own from the given data)\n",
    "- Random Forests (A forest is a bunch of trees. A Random Forest is a bunch of Decision Trees.)\n",
    "- Support Vector Machines or SVMs (Can use the \"kernel trick\" to classify data that is not linearly seperable by mapping it to a higher dimension. ~~Interstellar~~)"