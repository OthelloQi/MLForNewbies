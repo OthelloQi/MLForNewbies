
{
 "cells": [
  {
   "cell_type": "markdown",
   "metadata": {},
   "source": [
    "# What is regression? \n",
    "Regression is a mathematical technique used to determine the relation between one or more independent variables and a dependent variable.\n",
    "# What is linear regression? \n",
    "Let's say you are given a few points:\n",
    "![image](https://upload.wikimedia.org/wikipedia/commons/thumb/3/3a/Linear_regression.svg/400px-Linear_regression.svg.png)\n",