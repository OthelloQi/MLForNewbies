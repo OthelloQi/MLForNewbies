
{
 "cells": [
  {
   "cell_type": "markdown",
   "metadata": {},
   "source": [
    "# What is regression? \n",
    "Regression is a mathematical technique used to determine the relation between one or more independent variables and a dependent variable.\n",
    "# What is linear regression? \n",
    "Let's say you are given a few points:\n",
    "![image](https://upload.wikimedia.org/wikipedia/commons/thumb/3/3a/Linear_regression.svg/400px-Linear_regression.svg.png)\n",
    "To put it very simply, linear regression involves finding a line that passes through all these points, or as close to all the given points as possible.\n",
    "\n",
    "Given a set of points (x1,y1), (x2,y2)... , linear regression involves finding a slope (m) and an intercept (c) such that the line (Y = mX + c) \"fits\" the given set of points.\n",
    "\n",
    "### How do we measure \"close\" ? \n",
    "Usually, we use a metric called mean-squared-error (MSE). The error ('E' in MSE) is the difference between the output predicted by the line~ and the actual output.\n",
    "\n",
    "### What is the point of this? What do I do with the line? \n",
    "We can use the equation of the line to predict the output (Y) for any given value input (X)."
   ]
  },
  {
   "cell_type": "markdown",
   "metadata": {},
   "source": [
    "# Give me an example!\n",
    "Let us start with a simple problem - predicting the price of a house (Y) given the number of rooms it has (X).\n",
    "We are given the following data -\n",
    "<table>\n",
    "    <tr>\n",
    "        <th>\n",
    "        No. of rooms (X)\n",
    "        </th>\n",
    "        <th>\n",
    "        Price of the house (Y)\n",
    "        </th>    \n",
    "    </tr>\n",
    "    <tr>\n",
    "        <td>1</td>\n",
    "        <td>11</td>\n",
    "    </tr>\n",
    "    <tr>\n",
    "        <td>2</td>\n",
    "        <td>21</td>\n",
    "    </tr>\n",
    "    <tr>\n",
    "        <td>3</td>\n",
    "        <td>31</td>\n",
    "    </tr>\n",
    "    <tr>\n",
    "        <td>4</td>\n",
    "        <td>41</td>\n",
    "    </tr>\n",
    "    <tr>\n",
    "        <td>5</td>\n",
    "        <td>51</td>\n",
    "    </tr>\n",
    "</table>\n",
    "\n",
    "Now, let us try to predict the price of a house with 10 rooms! <br>\n",
    "Make sure you have installed all the dependencies"
   ]
  },
  {
   "cell_type": "code",
   "execution_count": 18,
   "metadata": {},
   "outputs": [
    {
     "data": {
      "image/png": "iVBORw0KGgoAAAANSUhEUgAAAYIAAAEKCAYAAAAfGVI8AAAABHNCSVQICAgIfAhkiAAAAAlwSFlz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\ng0CSOs4gkKSOMwgkqeMMAknquP8Perjkk86PXdAAAAAASUVORK5CYII=\n",
      "text/plain": [
       "<matplotlib.figure.Figure at 0x244a5fac080>"