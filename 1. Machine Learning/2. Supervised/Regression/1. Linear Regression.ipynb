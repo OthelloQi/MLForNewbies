
{
 "cells": [
  {
   "cell_type": "markdown",
   "metadata": {},
   "source": [
    "# What is regression? \n",
    "Regression is a mathematical technique used to determine the relation between one or more independent variables and a dependent variable.\n",
    "# What is linear regression? \n",
    "Let's say you are given a few points:\n",
    "![image](https://upload.wikimedia.org/wikipedia/commons/thumb/3/3a/Linear_regression.svg/400px-Linear_regression.svg.png)\n",
    "To put it very simply, linear regression involves finding a line that passes through all these points, or as close to all the given points as possible.\n",
    "\n",
    "Given a set of points (x1,y1), (x2,y2)... , linear regression involves finding a slope (m) and an intercept (c) such that the line (Y = mX + c) \"fits\" the given set of points.\n",
    "\n",
    "### How do we measure \"close\" ? \n",
    "Usually, we use a metric called mean-squared-error (MSE). The error ('E' in MSE) is the difference between the output predicted by the line~ and the actual output.\n",
    "\n",
    "### What is the point of this? What do I do with the line? \n",
    "We can use the equation of the line to predict the output (Y) for any given value input (X)."
   ]
  },
  {
   "cell_type": "markdown",
   "metadata": {},
   "source": [
    "# Give me an example!\n",
    "Let us start with a simple problem - predicting the price of a house (Y) given the number of rooms it has (X).\n",
    "We are given the following data -\n",
    "<table>\n",
    "    <tr>\n",
    "        <th>\n",
    "        No. of rooms (X)\n",
    "        </th>\n",
    "        <th>\n",
    "        Price of the house (Y)\n",
    "        </th>    \n",
    "    </tr>\n",
    "    <tr>\n",
    "        <td>1</td>\n",
    "        <td>11</td>\n",
    "    </tr>\n",
    "    <tr>\n",
    "        <td>2</td>\n",
    "        <td>21</td>\n",
    "    </tr>\n",
    "    <tr>\n",
    "        <td>3</td>\n",
    "        <td>31</td>\n",
    "    </tr>\n",
    "    <tr>\n",
    "        <td>4</td>\n",
    "        <td>41</td>\n",
    "    </tr>\n",
    "    <tr>\n",
    "        <td>5</td>\n",
    "        <td>51</td>\n",
    "    </tr>\n",
    "</table>\n",
    "\n",
    "Now, let us try to predict the price of a house with 10 rooms! <br>\n",
    "Make sure you have installed all the dependencies"
   ]
  },
  {
   "cell_type": "code",
   "execution_count": 18,
   "metadata": {},
   "outputs": [
    {
     "data": {
      "image/png": "iVBORw0KGgoAAAANSUhEUgAAAYIAAAEKCAYAAAAfGVI8AAAABHNCSVQICAgIfAhkiAAAAAlwSFlz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\ng0CSOs4gkKSOMwgkqeMMAknquP8Perjkk86PXdAAAAAASUVORK5CYII=\n",
      "text/plain": [
       "<matplotlib.figure.Figure at 0x244a5fac080>"
      ]
     },
     "metadata": {},
     "output_type": "display_data"
    }
   ],
   "source": [
    "# First, we create a list of inputs and their corresponding outputs, based on the given data\n",
    "X = [1, 2 ,3 ,4 ,5 ]\n",
    "Y = [11,21,31,41,51]\n",
    "\n",
    "# We will use the matplotlib library to plot our data\n",
    "from matplotlib import pyplot as plt\n",
    "plt.scatter(X,Y)\n",
    "plt.xlabel(\"No. of rooms\")\n",
    "plt.ylabel(\"Price\")\n",
    "plt.show()"
   ]
  },
  {
   "cell_type": "markdown",
   "metadata": {},
   "source": [
    "Here's what our data looks like so far. Neat!\n",
    "Now let's fit this data into a linear regression model using the scikit-learn library."
   ]
  },
  {
   "cell_type": "code",
   "execution_count": 19,
   "metadata": {},
   "outputs": [
    {
     "data": {
      "text/plain": [
       "LinearRegression(copy_X=True, fit_intercept=True, n_jobs=1, normalize=False)"
      ]
     },
     "execution_count": 19,
     "metadata": {},
     "output_type": "execute_result"
    }
   ],
   "source": [
    "from sklearn.linear_model import LinearRegression\n",
    "import numpy as np\n",
    "\n",
    "#Let's first convert our data to numpy arrays\n",
    "X = np.asarray(X).reshape(-1,1)\n",
    "Y = np.asarray(Y).reshape(-1,1)\n",
    "\n",
    "model = LinearRegression()\n",
    "model.fit(X,Y)\n",
    "# Great! Our model has \"learned\" the relationship between X and Y"
   ]
  },
  {
   "cell_type": "code",
   "execution_count": 20,
   "metadata": {},
   "outputs": [
    {
     "name": "stdout",
     "output_type": "stream",
     "text": [
      "[[ 101.]]\n"
     ]
    }
   ],
   "source": [
    "# Let's try predicting the price of a house with 10 rooms\n",
    "print(model.predict(10))"
   ]
  },
  {
   "cell_type": "markdown",
   "metadata": {},
   "source": [
    "# WOW! What just happened?\n",
    "The given data was linearly related. Hence, our model was able to learn this linear relationship from the given data, and predict the price of a sample that wasn't a part of the training data.\n",
    "\n",
    "As you might have guessed, the equation of the line for this example would be Y = 10X + 1 <br>\n",
    "But let's verify this by checking what our model learned."
   ]
  },
  {
   "cell_type": "code",
   "execution_count": 21,
   "metadata": {},
   "outputs": [
    {
     "name": "stdout",
     "output_type": "stream",
     "text": [
      "Coefficient or slope m of the model is - \n",
      "[[ 10.]]\n",
      "Intercept c of the model is -\n",
      "[ 1.]\n"
     ]
    }
   ],
   "source": [
    "print(\"Coefficient or slope m of the model is - \")\n",
    "print(model.coef_)\n",
    "print(\"Intercept c of the model is -\")\n",
    "print(model.intercept_)"
   ]
  },
  {
   "cell_type": "markdown",
   "metadata": {},
   "source": [
    "Let's plot the results of our model along with the data we used for training"
   ]
  },
  {
   "cell_type": "code",
   "execution_count": 22,
   "metadata": {},
   "outputs": [
    {
     "data": {
      "image/png": "iVBORw0KGgoAAAANSUhEUgAAAXQAAAD8CAYAAABn919SAAAABHNCSVQICAgIfAhkiAAAAAlwSFlz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\n",
      "text/plain": [
       "<matplotlib.figure.Figure at 0x244a5fc5b38>"
      ]
     },
     "metadata": {},
     "output_type": "display_data"
    }
   ],
   "source": [
    "predictions = model.predict(X)\n",
    "plt.scatter(X,Y)\n",
    "plt.plot(X,predictions)\n",
    "plt.show()"
   ]
  },
  {
   "cell_type": "markdown",
   "metadata": {},
   "source": [
    "It's a perfect fit! :)"
   ]
  },
  {
   "cell_type": "markdown",
   "metadata": {},
   "source": [
    "![img](http://i.imgur.com/nJL1a2P.jpg)"
   ]
  },
  {
   "cell_type": "markdown",
   "metadata": {},
   "source": [
    "# Limitations\n",
    "An obvious limitation of this model is that it cannot properly fit data that has a non-linear relationship.\n",
    "For example, let's try to predict **squares** of a given number using the same model."
   ]
  },
  {
   "cell_type": "code",
   "execution_count": 25,
   "metadata": {},