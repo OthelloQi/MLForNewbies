
{
 "cells": [
  {
   "cell_type": "markdown",
   "metadata": {},
   "source": [
    "# What is polynomial regression? \n",
    "In Polynomial regression, the relationship between the independent variable X and the dependent variable Y is modelled as an nth degree polynomial in X\n",
    "\n",
    "Polynomial regression is an improvement over linear regression, and can fit more complex data.\n",
    "Let's try to predict squares using polynomial regression this time"
   ]
  },