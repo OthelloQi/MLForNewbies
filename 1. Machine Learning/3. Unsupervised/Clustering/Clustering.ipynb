
{
 "cells": [
  {
   "cell_type": "markdown",
   "metadata": {},
   "source": [
    "# What is clustering?\n",
    "Clustering is a type of unsupervised learning algorithm. Unlike supervised learning algorithms that predict a value or a class, unsupervised algorithms merely find similarity between various inputs and group them together based on this \"similarity\".\n",
    "![image](https://home.deib.polimi.it/matteucc/Clustering/tutorial_html/images/clustering.gif)\n",
    "\n",
    "\n",
    "## How is it different from classification? \n",
    "Classification categorizes an input into one of many pre-defined classes. These classes are also given as a part of the input. On the other hand, clustering merely finds out which inputs are similar to each other. For clustering, no information regarding pre-defined classes is given. "
   ]
  },
  {
   "cell_type": "markdown",
   "metadata": {},
   "source": [
    "An interactive demo is available [here](http://www.onmyphd.com/?p=k-means.clustering)"
   ]
  },
  {
   "cell_type": "markdown",
   "metadata": {},
   "source": [
    "# Simple Example :)\n",
    "For clustering, instead of defining our own data, we'll use the Iris datasets which is included in scikit-learn. The Iris dataset contains data about the length of various parts of the Iris flower, and the specie they belong to. Since we're performing clustering, and not classification, we'll ignore the specie for now."
   ]
  },
  {
   "cell_type": "code",
   "execution_count": 9,
   "metadata": {},
   "outputs": [