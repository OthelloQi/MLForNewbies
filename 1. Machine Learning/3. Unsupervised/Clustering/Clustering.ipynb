
{
 "cells": [
  {
   "cell_type": "markdown",
   "metadata": {},
   "source": [
    "# What is clustering?\n",
    "Clustering is a type of unsupervised learning algorithm. Unlike supervised learning algorithms that predict a value or a class, unsupervised algorithms merely find similarity between various inputs and group them together based on this \"similarity\".\n",
    "![image](https://home.deib.polimi.it/matteucc/Clustering/tutorial_html/images/clustering.gif)\n",
    "\n",
    "\n",
    "## How is it different from classification? \n",
    "Classification categorizes an input into one of many pre-defined classes. These classes are also given as a part of the input. On the other hand, clustering merely finds out which inputs are similar to each other. For clustering, no information regarding pre-defined classes is given. "
   ]
  },
  {