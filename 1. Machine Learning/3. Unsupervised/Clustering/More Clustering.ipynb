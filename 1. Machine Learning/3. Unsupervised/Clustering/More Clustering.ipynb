
{
 "cells": [
  {
   "cell_type": "markdown",
   "metadata": {},
   "source": [
    "# Wait, there's more?\n",
    "Let's look at the following set of samples.\n",
    "![img](https://sandipanweb.files.wordpress.com/2016/07/circles1.png?w=676)\n",
    "\n",
    "We can see how simple distance based k-means clustering is ineffective at identifying clusters. \n",
    "\n",
    "We need a more robust technique that takes into consideration the connectivity and density of points. "
   ]
  },
  {
   "cell_type": "markdown",
   "metadata": {},
   "source": [
    "## Enter DBSCAN\n",
    "Density-based Spatial Clustering of Applications with Noise\n",
    "\n",
    "#### What is it?\n",
    "DBSCAN relies on the density of point to perform clustering, instead of the distance from centroids. <br>\n",
    "Since it does not depend on the centroids, you do not need to specify the number of clusters. <br>\n",
    "However, you do need to specify two additional parameters: \n",
    "1. Epsilon: The maximum distance between two data points to be considered in the same neighborhood\n",