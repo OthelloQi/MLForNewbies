
{
 "cells": [
  {
   "cell_type": "markdown",
   "metadata": {},
   "source": [
    "# Wait, there's more?\n",
    "Let's look at the following set of samples.\n",
    "![img](https://sandipanweb.files.wordpress.com/2016/07/circles1.png?w=676)\n",