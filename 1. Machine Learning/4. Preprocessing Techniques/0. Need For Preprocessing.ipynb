{
 "cells": [
  {
   "cell_type": "markdown",
   "metadata": {},
   "source": [
    "## How is preprocessing going to help?\n",
    "Sometimes the collected data might not be suitable for direct processing. Let's look at the following examples: \n",
    "- Case 1. A dataset contains the ages and salaries of employees. The range of ages is 0-