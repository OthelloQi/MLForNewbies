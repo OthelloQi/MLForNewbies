{
 "cells": [
  {
   "cell_type": "markdown",
   "metadata": {},
   "source": [
    "## How is preprocessing going to help?\n",
    "Sometimes the collected dat