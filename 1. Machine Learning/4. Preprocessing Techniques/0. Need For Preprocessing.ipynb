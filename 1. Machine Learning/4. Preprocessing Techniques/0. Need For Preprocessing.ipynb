{
 "cells": [
  {
   "cell_type": "markdown",
   "metadata": {},
   "source": [
    "## How is preprocessing going to help?\n",
    "Sometimes the collected data might not be suitable for direct processing. Let's look at the following examples: \n",
    "- Case 1. A dataset contains the ages and salaries of employees. The range of ages is 0-99. The range of salaries is 0-10,000,000. <br> <em>While training, the output seems to be independent of the age and based only on the salaries. Why did this happen?</em> <br> <br>\n",
    "- Case 2. Customer reviews contain product ratings as \"Good\", \"Average\" or \"Bad\". However, we are aware that machine learning models only operate on numerical data. <br> <em>How do we convert categorical or non-numerical data to a meaningful numerical representation?</em> <br><br>\n",
    "- Case 3. Let's say you have 18 features to work with. However, you realize some feature are highly correlated. For example, m