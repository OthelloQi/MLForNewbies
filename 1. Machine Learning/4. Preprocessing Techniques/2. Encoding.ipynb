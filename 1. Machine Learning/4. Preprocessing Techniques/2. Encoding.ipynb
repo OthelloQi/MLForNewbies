
{
 "cells": [
  {
   "cell_type": "markdown",
   "metadata": {},
   "source": [
    "## Problem\n",
    "\n",
    "Often, features are in text or categorical form. For example, sizes \"Small\", \"Medium\", \"Large\", or ratings \"Good\", \"Average\", \"Bad\". However, machine learning models only operate on numerical values. \n",
    "\n",
    "## Solution\n",
    "Mapping each category or word to a number in such a way that the meaning of the word is retained."
   ]
  },
  {
   "cell_type": "markdown",
   "metadata": {},
   "source": [
    "### Categorical encoding example"
   ]
  },
  {
   "cell_type": "code",
   "execution_count": 3,
   "metadata": {},
   "outputs": [
    {
     "name": "stdout",
     "output_type": "stream",
     "text": [
      "Numerical sizes are\n",
      "[1, 2, 3, 1, 2, 1, 2, 3, 2, 3]\n"
     ]
    }
   ],
   "source": [
    "# An array of sizes\n",
    "sizes = [\"S\", \"M\", \"L\", \"S\", \"M\", \"S\", \"M\", \"L\", \"M\", \"L\"]\n",
    "\n",
    "# A dictionary containing the mapping\n",
    "mapping = {\"S\": 1, \"M\": 2, \"L\": 3}\n",
    "\n",
    "numerical_sizes = list(map((lambda size : mapping[size]), sizes))\n",
    "print(\"Numerical sizes are\")\n",
    "print(numerical_sizes)"
   ]
  },
  {
   "cell_type": "markdown",
   "metadata": {},
   "source": [
    "#### Problem with this approach\n",