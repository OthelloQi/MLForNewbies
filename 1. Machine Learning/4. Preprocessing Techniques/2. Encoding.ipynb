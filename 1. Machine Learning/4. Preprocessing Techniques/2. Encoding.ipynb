
{
 "cells": [
  {
   "cell_type": "markdown",
   "metadata": {},
   "source": [
    "## Problem\n",
    "\n",
    "Often, features are in text or categorical form. For example, sizes \"Small\", \"Medium\", \"Large\", or ratings \"Good\", \"Average\", \"Bad\". However, machine learning models only operate on numerical values. \n",
    "\n",
    "## Solution\n",
    "Mapping each category or word to a number in such a way that the meaning of the word is retained."
   ]
  },
  {
   "cell_type": "markdown",
   "metadata": {},
   "source": [
    "### Categorical encoding example"
   ]
  },
  {
   "cell_type": "code",
   "execution_count": 3,
   "metadata": {},
   "outputs": [
    {
     "name": "stdout",
     "output_type": "stream",
     "text": [
      "Numerical sizes are\n",
      "[1, 2, 3, 1, 2, 1, 2, 3, 2, 3]\n"
     ]
    }
   ],
   "source": [
    "# An array of sizes\n",
    "sizes = [\"S\", \"M\", \"L\", \"S\", \"M\", \"S\", \"M\", \"L\", \"M\", \"L\"]\n",
    "\n",
    "# A dictionary containing the mapping\n",
    "mapping = {\"S\": 1, \"M\": 2, \"L\": 3}\n",
    "\n",
    "numerical_sizes = list(map((lambda size : mapping[size]), sizes))\n",
    "print(\"Numerical sizes are\")\n",
    "print(numerical_sizes)"
   ]
  },
  {
   "cell_type": "markdown",
   "metadata": {},
   "source": [
    "#### Problem with this approach\n",
    "Manually mapping each category to a number can be tedious, especially when the number of categories is large. Instead, we could assign a new index to each new category, and map the input automatically. \n",
    "Let's see how: "
   ]
  },
  {
   "cell_type": "code",
   "execution_count": 18,
   "metadata": {},
   "outputs": [
    {
     "name": "stdout",
     "output_type": "stream",
     "text": [
      "Numerical colors are: \n",
      "[5, 6, 3, 3, 0, 2, 4, 1, 5, 7, 6]\n"
     ]
    }
   ],
   "source": [
    "colors = [\"Red\", \"Yellow\", \"Green\", \"Green\", \"Purple\", \"Orange\", \"Blue\", \"White\", \"Red\", \"Black\", \"Yellow\"]\n",