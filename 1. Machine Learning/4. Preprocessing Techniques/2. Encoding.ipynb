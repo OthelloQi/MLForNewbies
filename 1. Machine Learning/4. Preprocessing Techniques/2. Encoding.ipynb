
{
 "cells": [
  {
   "cell_type": "markdown",
   "metadata": {},
   "source": [
    "## Problem\n",
    "\n",
    "Often, features are in text or categorical form. For example, sizes \"Small\", \"Medium\", \"Large\", or ratings \"Good\", \"Average\", \"Bad\". However, machine learning models only operate on numerical values. \n",
    "\n",
    "## Solution\n",
    "Mapping each category or word to a number in such a way that the meaning of the word is retained."
   ]
  },
  {
   "cell_type": "markdown",
   "metadata": {},
   "source": [
    "### Categorical encoding example"
   ]
  },
  {
   "cell_type": "code",
   "execution_count": 3,
   "metadata": {},
   "outputs": [
    {
     "name": "stdout",
     "output_type": "stream",
     "text": [
      "Numerical sizes are\n",
      "[1, 2, 3, 1, 2, 1, 2, 3, 2, 3]\n"
     ]