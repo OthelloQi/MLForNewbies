
{
 "cells": [
  {
   "cell_type": "markdown",
   "metadata": {},
   "source": [
    "## Problem\n",
    "Some features may have a larger range, compared to other features. During training, these features with a larger range can \"dominate\" the features with a smaller range, or features with a numerically smaller value. \n",
    "\n",