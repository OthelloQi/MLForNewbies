
{
 "cells": [
  {
   "cell_type": "markdown",
   "metadata": {},
   "source": [
    "## Problem\n",
    "Some input features can be highly correlated i.e. have a similar meaning. This adds redundancy and adds unnecessary dimensions. For example, annual income and monthly income are two different features, which essentially mean the same thing. \n",
    "\n",
    "## Solution\n",
    "Find similar input features and eliminate this redundancy. "
   ]
  },
  {
   "cell_type": "markdown",
   "metadata": {},
   "source": [
    "## Principal Component Analysis (PCA) algorithm\n",
    "![img](https://image.slidesharecdn.com/principalcomponentanalysis-130916163816-phpapp01/95/principal-component-analysis-18-638.jpg?cb=1379350085)\n",
    "\n"
   ]