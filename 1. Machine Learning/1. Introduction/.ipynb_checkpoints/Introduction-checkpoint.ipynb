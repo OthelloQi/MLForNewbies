{
 "cells": [
  {
   "cell_type": "markdown",
   "metadata": {},
   "source": [
    "# What is machine learning?\n",
    "There's plenty of definitions out there, but here's my personal favorite - _Machine learning consists of techniques and procedures that make computers solve problems without explicitly telling them how to do so._ Machine learning is a part of Artificial Intelligence. It helps us solve problems that aren't solvable using traditional programming approaches.\n",
    "\n",
    "# What can I do wit