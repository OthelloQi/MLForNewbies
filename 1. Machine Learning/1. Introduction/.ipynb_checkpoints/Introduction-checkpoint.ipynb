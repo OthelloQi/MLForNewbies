{
 "cells": [
  {
   "cell_type": "markdown",
   "metadata": {},
   "source": [
    "# What is machine learning?\n",
    "There's plenty of definitions out there, but here's my personal favorite - _Machine learning consists of techniques and procedures that make computers solve problems without explicitly telling them how to do so._ Machine learning is a part of Artificial Intelligence. It helps us solve problems that aren't solvable using traditional programming approaches.\n",
    "\n",
    "# What can I do with machine learning?\n",
    "Just about anything :)\n",
    "\n",
    "Here are a few examples - \n",
    "- Drive a car\n",
    "- Predict stock prices\n",
    "- Interpret speech\n",
    "- Filter spam\n",
    "- Generate captions for images\n",
    "\n",
    "# Why is it so popular? \n",
    "Machine learning allows computers to emulate human capabilites to a c