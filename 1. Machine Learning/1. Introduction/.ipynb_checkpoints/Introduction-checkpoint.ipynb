{
 "cells": [
  {
   "cell_type": "markdown",
   "metadata": {},
   "source": [
    "# What is machine learning?\n",
    "There's plenty of definitions out there, but here's my personal favorite - _Machine learning consists of techniques and procedures that make computers solve problems without explicitly telling them how to do so._ Machine learning is a part of Artificial Intelligence. It helps us solve problems that aren't solvable using traditional programming approaches.\n",
    "\n",
    "# What can I do with machine learning?\n",
    "Just about anything :)\n",
    "\n",
    "Here are a few examples - \n",
    "- Drive a car\n",
    "- Predict stock prices\n",
    "- Interpret speech\n",
    "- Filter spam\n",
    "- Generate captions for images\n",
    "\n",
    "# Why is it so popular? \n",
    "Machine learning allows computers to emulate human capabilites to a certain extent. For a long time, computers were seen as dumb machines that needed to be told what to do and how to do it. Machine learning enables computers to \"learn\" how to achieve a given goal. This opens up a lot of possibilites! Tasks which were previously limited to hum